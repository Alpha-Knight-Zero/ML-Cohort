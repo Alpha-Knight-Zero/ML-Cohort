{
 "cells": [
  {
   "cell_type": "code",
   "execution_count": 73,
   "metadata": {},
   "outputs": [],
   "source": [
    "import pandas as pd\n",
    "import numpy as np\n",
    "import matplotlib.pyplot as plt\n",
    "import seaborn as sns\n",
    "import plotly.express as px\n",
    "\n",
    "import os\n",
    "import shutil\n",
    "\n",
    "import tensorflow as tf\n",
    "from tensorflow.keras.preprocessing import image_dataset_from_directory\n",
    "\n",
    "from tensorflow.keras.applications import DenseNet121\n",
    "from sklearn.preprocessing import LabelBinarizer\n",
    "from tensorflow.keras.layers import Dense, GlobalAveragePooling2D, Dropout,MaxPooling2D , Conv2D,Flatten\n",
    "from tensorflow.keras.models import Sequential\n",
    "\n",
    "# from sklearn.metrics import roc_curve, auc, roc_auc_score\n",
    "# from sklearn.metrics import classification_report\n",
    "\n",
    "# from IPython.display import clear_output\n",
    "# import warnings\n",
    "# warnings.filterwarnings('ignore')"
   ]
  },
  {
   "cell_type": "code",
   "execution_count": 69,
   "metadata": {},
   "outputs": [],
   "source": [
    "dir=\"train_data\"\n",
    "\n",
    "data=pd.read_csv(\"train_labels.csv\")\n",
    "\n",
    "SEED = 12\n",
    "IMG_HEIGHT = 64\n",
    "IMG_WIDTH = 64"
   ]
  },
  {
   "cell_type": "code",
   "execution_count": 33,
   "metadata": {},
   "outputs": [
    {
     "name": "stdout",
     "output_type": "stream",
     "text": [
      "Number of images in test and train set :  8000\n"
     ]
    }
   ],
   "source": [
    "n=len(os.listdir(dir))\n",
    "print(\"Number of images in test and train set : \",n)"
   ]
  },
  {
   "cell_type": "code",
   "execution_count": 34,
   "metadata": {},
   "outputs": [
    {
     "name": "stdout",
     "output_type": "stream",
     "text": [
      "Number of cats vs dogs images :  4000  :  4000\n"
     ]
    },
    {
     "data": {
      "image/png": "[encoded data removed]",
      "text/plain": [
       "<Figure size 360x360 with 1 Axes>"
      ]
     },
     "metadata": {},
     "output_type": "display_data"
    }
   ],
   "source": [
    "cats=dogs=0\n",
    "for i in data[\"label\"]:\n",
    "    if i==\"cat\":\n",
    "        cats+=1\n",
    "    elif i==\"dog\":\n",
    "        dogs+=1\n",
    "\n",
    "plt.figure(figsize=(5, 5))\n",
    "plt.pie(x=np.array([cats,dogs]), autopct=\"%.1f%%\", labels=[\"Cats\", \"Dogs\"], pctdistance=0.5)\n",
    "plt.title(\"Share of cats vs dogs images \", fontsize=14)\n",
    "print(\"Number of cats vs dogs images : \",cats,\" : \",dogs)\n"
   ]
  },
  {
   "cell_type": "code",
   "execution_count": 35,
   "metadata": {},
   "outputs": [],
   "source": [
    "IMG_WIDTH=64\n",
    "IMG_HEIGHT=64\n",
    "\n",
    "IMG_SHAPE=(IMG_HEIGHT,IMG_WIDTH)\n",
    "seed=69\n",
    "\n",
    "INPUT_SHAPE=(IMG_HEIGHT,IMG_WIDTH,3)"
   ]
  },
  {
   "cell_type": "code",
   "execution_count": 36,
   "metadata": {},
   "outputs": [],
   "source": [
    "#make input data into desired format\n",
    "\n",
    "\n",
    "# cats_files=[]\n",
    "# dogs_files=[]\n",
    "\n",
    "# for i,label in enumerate(data[\"label\"]):\n",
    "#     if label==\"cat\":\n",
    "#         cats_files.append(str(data[\"id\"][i])+\".png\")\n",
    "#     elif label==\"dog\":\n",
    "#         dogs_files.append(str(data[\"id\"][i])+\".png\")\n",
    "\n",
    "# for f in cats_files:\n",
    "#     shutil.copyfile(os.path.join(dir,f),os.path.join(\"train/cats\",f))\n",
    "\n",
    "# for f in dogs_files:\n",
    "#     shutil.copyfile(os.path.join(dir,f),os.path.join(\"train/dogs\",f))\n",
    "    \n",
    "\n"
   ]
  },
  {
   "cell_type": "code",
   "execution_count": 37,
   "metadata": {},
   "outputs": [
    {
     "name": "stdout",
     "output_type": "stream",
     "text": [
      "Found 8000 files belonging to 2 classes.\n",
      "Using 6400 files for training.\n",
      "Found 8000 files belonging to 2 classes.\n",
      "Using 1600 files for validation.\n"
     ]
    }
   ],
   "source": [
    "train_set=image_dataset_from_directory(\n",
    "    \"train\",\n",
    "    label_mode=\"categorical\",\n",
    "    batch_size=BATCH_SIZE,\n",
    "    image_size=IMG_SHAPE,\n",
    "    shuffle=True,\n",
    "    seed=seed,\n",
    "    validation_split=0.2,\n",
    "    subset=\"training\",\n",
    ")\n",
    "\n",
    "test_set=image_dataset_from_directory(\n",
    "    \"train\",\n",
    "    label_mode=\"categorical\",\n",
    "    batch_size=BATCH_SIZE,\n",
    "    image_size=IMG_SHAPE,\n",
    "    shuffle=True,\n",
    "    seed=seed,\n",
    "    validation_split=0.2,\n",
    "    subset=\"validation\",\n",
    ")"
   ]
  },
  {
   "cell_type": "code",
   "execution_count": 77,
   "metadata": {},
   "outputs": [],
   "source": [
    "def transfer_learning():\n",
    "    base_model=DenseNet121(include_top=False,input_shape=INPUT_SHAPE,weights=\"imagenet\")\n",
    "    \n",
    "    thr=149\n",
    "    for layers in base_model.layers[:thr]:\n",
    "        layers.trainable=False\n",
    "    \n",
    "    for layers in base_model.layers[thr:]:\n",
    "        layers.trainable=True\n",
    "    \n",
    "    return base_model"
   ]
  },
  {
   "cell_type": "code",
   "execution_count": 79,
   "metadata": {},
   "outputs": [],
   "source": [
    "def create_model():\n",
    "    model=Sequential()\n",
    "    \n",
    "    base_model=transfer_learning()\n",
    "    model.add(base_model)\n",
    "    \n",
    "    model.add(GlobalAveragePooling2D())\n",
    "    \n",
    "    model.add(Dense(256, activation=\"relu\"))\n",
    "    model.add(Dropout(0.2))\n",
    "    \n",
    "    model.add(Dense(512, activation=\"relu\"))\n",
    "    model.add(Dropout(0.2))\n",
    "    \n",
    "    model.add(Dense(1024, activation=\"relu\"))\n",
    "    \n",
    "    model.add(Dense(2,activation=\"softmax\",name=\"classification\"))\n",
    "    \n",
    "    model.summary()\n",
    "    \n",
    "    return model"
   ]
  },
  {
   "cell_type": "code",
   "execution_count": 80,
   "metadata": {},
   "outputs": [
    {
     "name": "stdout",
     "output_type": "stream",
     "text": [
      "Model: \"sequential_11\"\n",
      "_________________________________________________________________\n",
      " Layer (type)                Output Shape              Param #   \n",
      "=================================================================\n",
      " densenet121 (Functional)    (None, 2, 2, 1024)        7037504   \n",
      "                                                                 \n",
      " global_average_pooling2d_2   (None, 1024)             0         \n",
      " (GlobalAveragePooling2D)                                        \n",
      "                                                                 \n",
      " dense_24 (Dense)            (None, 256)               262400    \n",
      "                                                                 \n",
      " dropout_4 (Dropout)         (None, 256)               0         \n",
      "                                                                 \n",
      " dense_25 (Dense)            (None, 512)               131584    \n",
      "                                                                 \n",
      " dropout_5 (Dropout)         (None, 512)               0         \n",
      "                                                                 \n",
      " dense_26 (Dense)            (None, 1024)              525312    \n",
      "                                                                 \n",
      " classification (Dense)      (None, 2)                 2050      \n",
      "                                                                 \n",
      "=================================================================\n",
      "Total params: 7,958,850\n",
      "Trainable params: 6,374,594\n",
      "Non-trainable params: 1,584,256\n",
      "_________________________________________________________________\n"
     ]
    }
   ],
   "source": [
    "model=create_model()\n",
    "\n",
    "model.compile(optimizer=\"adam\", \n",
    "                loss='binary_crossentropy',\n",
    "                metrics = \"accuracy\")"
   ]
  },
  {
   "cell_type": "code",
   "execution_count": 81,
   "metadata": {},
   "outputs": [
    {
     "name": "stdout",
     "output_type": "stream",
     "text": [
      "Epoch 1/10\n",
      "100/100 [==============================] - 154s 1s/step - loss: 0.6043 - accuracy: 0.6741 - val_loss: 1.3973 - val_accuracy: 0.6819\n",
      "Epoch 2/10\n",
      "100/100 [==============================] - 158s 2s/step - loss: 0.4906 - accuracy: 0.7667 - val_loss: 1.1075 - val_accuracy: 0.7475\n",
      "Epoch 3/10\n",
      "100/100 [==============================] - 153s 2s/step - loss: 0.4127 - accuracy: 0.8128 - val_loss: 0.7117 - val_accuracy: 0.7181\n",
      "Epoch 4/10\n",
      "100/100 [==============================] - 146s 1s/step - loss: 0.3489 - accuracy: 0.8527 - val_loss: 0.6384 - val_accuracy: 0.7656\n",
      "Epoch 5/10\n",
      "100/100 [==============================] - 146s 1s/step - loss: 0.3193 - accuracy: 0.8648 - val_loss: 0.6516 - val_accuracy: 0.7800\n",
      "Epoch 6/10\n",
      "100/100 [==============================] - 145s 1s/step - loss: 0.2469 - accuracy: 0.8966 - val_loss: 0.6417 - val_accuracy: 0.7613\n",
      "Epoch 7/10\n",
      "100/100 [==============================] - 1813s 18s/step - loss: 0.1904 - accuracy: 0.9231 - val_loss: 0.5722 - val_accuracy: 0.7869\n",
      "Epoch 8/10\n",
      "100/100 [==============================] - 141s 1s/step - loss: 0.1569 - accuracy: 0.9388 - val_loss: 0.7528 - val_accuracy: 0.7613\n",
      "Epoch 9/10\n",
      "100/100 [==============================] - 141s 1s/step - loss: 0.1274 - accuracy: 0.9544 - val_loss: 0.8838 - val_accuracy: 0.7756\n",
      "Epoch 10/10\n",
      "100/100 [==============================] - 156s 2s/step - loss: 0.1000 - accuracy: 0.9623 - val_loss: 1.1376 - val_accuracy: 0.7769\n"
     ]
    }
   ],
   "source": [
    "EPOCHS=10\n",
    "\n",
    "history = model.fit(x = train_set,validation_data=test_set,epochs = EPOCHS)"
   ]
  },
  {
   "cell_type": "markdown",
   "metadata": {},
   "source": [
    "77 % validation accuracy with 7,958,850 total parameters."
   ]
  },
  {
   "cell_type": "code",
   "execution_count": null,
   "metadata": {},
   "outputs": [],
   "source": []
  }
 ],
 "metadata": {
  "interpreter": {
   "hash": "23356bbed64e65e149c0d44533e592c357a4662753356395725149f1f5ab8ff9"
  },
  "kernelspec": {
   "display_name": "Python 3.10.0 64-bit (system)",
   "language": "python",
   "name": "python3"
  },
  "language_info": {
   "codemirror_mode": {
    "name": "ipython",
    "version": 3
   },
   "file_extension": ".py",
   "mimetype": "text/x-python",
   "name": "python",
   "nbconvert_exporter": "python",
   "pygments_lexer": "ipython3",
   "version": "3.10.0"
  },
  "orig_nbformat": 4
 },
 "nbformat": 4,
 "nbformat_minor": 2
}
