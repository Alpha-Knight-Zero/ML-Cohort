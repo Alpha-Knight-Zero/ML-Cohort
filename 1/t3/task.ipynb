{
 "cells": [
  {
   "cell_type": "code",
   "execution_count": 127,
   "metadata": {},
   "outputs": [],
   "source": [
    "import pandas as pd\n",
    "import numpy as np\n",
    "import matplotlib.pyplot as plt\n",
    "import seaborn as sns\n",
    "import plotly.express as px\n",
    "\n",
    "import os\n",
    "import shutil\n",
    "\n",
    "import tensorflow as tf\n",
    "from tensorflow.keras.preprocessing import image_dataset_from_directory\n",
    "\n",
    "from tensorflow.keras.applications import DenseNet121\n",
    "from tensorflow.keras.layers import Dense, GlobalAveragePooling2D, Dropout,MaxPooling2D , Conv2D,Flatten,BatchNormalization\n",
    "from tensorflow.keras.models import Sequential\n",
    "\n",
    "# from sklearn.metrics import roc_curve, auc, roc_auc_score\n",
    "# from sklearn.metrics import classification_report\n",
    "\n",
    "# from IPython.display import clear_output\n",
    "# import warnings\n",
    "# warnings.filterwarnings('ignore')"
   ]
  },
  {
   "cell_type": "code",
   "execution_count": 128,
   "metadata": {},
   "outputs": [],
   "source": [
    "dir=\"train_data\"\n",
    "\n",
    "data=pd.read_csv(\"train_labels.csv\")\n",
    "\n",
    "SEED = 12\n",
    "IMG_HEIGHT = 64\n",
    "IMG_WIDTH = 64"
   ]
  },
  {
   "cell_type": "code",
   "execution_count": 129,
   "metadata": {},
   "outputs": [
    {
     "name": "stdout",
     "output_type": "stream",
     "text": [
      "Number of images in test and train set :  8000\n"
     ]
    }
   ],
   "source": [
    "n=len(os.listdir(dir))\n",
    "print(\"Number of images in test and train set : \",n)"
   ]
  },
  {
   "cell_type": "code",
   "execution_count": 130,
   "metadata": {},
   "outputs": [
    {
     "name": "stdout",
     "output_type": "stream",
     "text": [
      "Number of cats vs dogs images :  4000  :  4000\n"
     ]
    },
    {
     "data": {
      "image/png": "[encoded data removed]",
      "text/plain": [
       "<Figure size 360x360 with 1 Axes>"
      ]
     },
     "metadata": {},
     "output_type": "display_data"
    }
   ],
   "source": [
    "cats=dogs=0\n",
    "for i in data[\"label\"]:\n",
    "    if i==\"cat\":\n",
    "        cats+=1\n",
    "    elif i==\"dog\":\n",
    "        dogs+=1\n",
    "\n",
    "plt.figure(figsize=(5, 5))\n",
    "plt.pie(x=np.array([cats,dogs]), autopct=\"%.1f%%\", labels=[\"Cats\", \"Dogs\"], pctdistance=0.5)\n",
    "plt.title(\"Share of cats vs dogs images \", fontsize=14)\n",
    "print(\"Number of cats vs dogs images : \",cats,\" : \",dogs)\n"
   ]
  },
  {
   "cell_type": "code",
   "execution_count": 131,
   "metadata": {},
   "outputs": [],
   "source": [
    "IMG_WIDTH=128\n",
    "IMG_HEIGHT=128\n",
    "\n",
    "IMG_SHAPE=(IMG_HEIGHT,IMG_WIDTH)\n",
    "seed=69\n",
    "\n",
    "INPUT_SHAPE=(IMG_HEIGHT,IMG_WIDTH,3)"
   ]
  },
  {
   "cell_type": "code",
   "execution_count": 132,
   "metadata": {},
   "outputs": [],
   "source": [
    "#make input data into desired format\n",
    "\n",
    "\n",
    "# cats_files=[]\n",
    "# dogs_files=[]\n",
    "\n",
    "# for i,label in enumerate(data[\"label\"]):\n",
    "#     if label==\"cat\":\n",
    "#         cats_files.append(str(data[\"id\"][i])+\".png\")\n",
    "#     elif label==\"dog\":\n",
    "#         dogs_files.append(str(data[\"id\"][i])+\".png\")\n",
    "\n",
    "# for f in cats_files:\n",
    "#     shutil.copyfile(os.path.join(dir,f),os.path.join(\"train/cats\",f))\n",
    "\n",
    "# for f in dogs_files:\n",
    "#     shutil.copyfile(os.path.join(dir,f),os.path.join(\"train/dogs\",f))\n",
    "    \n",
    "\n"
   ]
  },
  {
   "cell_type": "code",
   "execution_count": 133,
   "metadata": {},
   "outputs": [
    {
     "name": "stdout",
     "output_type": "stream",
     "text": [
      "Found 8000 files belonging to 2 classes.\n",
      "Using 6400 files for training.\n",
      "Found 8000 files belonging to 2 classes.\n",
      "Using 1600 files for validation.\n"
     ]
    }
   ],
   "source": [
    "BATCH_SIZE=32\n",
    "\n",
    "train_set=image_dataset_from_directory(\n",
    "    \"train\",\n",
    "    label_mode=\"categorical\",\n",
    "    batch_size=BATCH_SIZE,\n",
    "    image_size=IMG_SHAPE,\n",
    "    shuffle=True,\n",
    "    seed=seed,\n",
    "    validation_split=0.2,\n",
    "    subset=\"training\",\n",
    ")\n",
    "\n",
    "test_set=image_dataset_from_directory(\n",
    "    \"train\",\n",
    "    label_mode=\"categorical\",\n",
    "    batch_size=BATCH_SIZE,\n",
    "    image_size=IMG_SHAPE,\n",
    "    shuffle=True,\n",
    "    seed=seed,\n",
    "    validation_split=0.2,\n",
    "    subset=\"validation\",\n",
    ")"
   ]
  },
  {
   "cell_type": "code",
   "execution_count": 134,
   "metadata": {},
   "outputs": [],
   "source": [
    "# def transfer_learning():\n",
    "#     base_model=DenseNet121(include_top=False,input_shape=INPUT_SHAPE,weights=\"imagenet\")\n",
    "    \n",
    "#     thr=149\n",
    "#     for layers in base_model.layers[:thr]:\n",
    "#         layers.trainable=False\n",
    "    \n",
    "#     for layers in base_model.layers[thr:]:\n",
    "#         layers.trainable=True\n",
    "    \n",
    "#     return base_model"
   ]
  },
  {
   "cell_type": "code",
   "execution_count": 139,
   "metadata": {},
   "outputs": [],
   "source": [
    "def create_model():\n",
    "    model=Sequential()\n",
    "    \n",
    "    model.add(Conv2D(32,(3,3),activation='relu',input_shape=INPUT_SHAPE))\n",
    "    model.add(BatchNormalization())\n",
    "    model.add(MaxPooling2D(pool_size=(2,2)))\n",
    "\n",
    "    model.add(Conv2D(64,(3,3),activation='relu'))\n",
    "    model.add(BatchNormalization())\n",
    "    model.add(MaxPooling2D(pool_size=(2,2)))\n",
    "\n",
    "    model.add(Conv2D(128,(3,3),activation='relu'))\n",
    "    model.add(BatchNormalization())\n",
    "    model.add(MaxPooling2D(pool_size=(2,2)))\n",
    "\n",
    "    model.add(Flatten())\n",
    "\n",
    "    model.add(Dense(128,activation='relu'))\n",
    "    model.add(BatchNormalization())\n",
    "    model.add(Dropout(0.5))\n",
    "\n",
    "    model.add(Dense(64,activation='relu'))\n",
    "    model.add(BatchNormalization())\n",
    "\n",
    "    model.add(Dense(2,activation='softmax'))\n",
    "    \n",
    "    model.summary()\n",
    "    \n",
    "    return model"
   ]
  },
  {
   "cell_type": "code",
   "execution_count": 140,
   "metadata": {},
   "outputs": [
    {
     "name": "stdout",
     "output_type": "stream",
     "text": [
      "Model: \"sequential_14\"\n",
      "_________________________________________________________________\n",
      " Layer (type)                Output Shape              Param #   \n",
      "=================================================================\n",
      " conv2d_38 (Conv2D)          (None, 126, 126, 32)      896       \n",
      "                                                                 \n",
      " batch_normalization_46 (Bat  (None, 126, 126, 32)     128       \n",
      " chNormalization)                                                \n",
      "                                                                 \n",
      " max_pooling2d_38 (MaxPoolin  (None, 63, 63, 32)       0         \n",
      " g2D)                                                            \n",
      "                                                                 \n",
      " conv2d_39 (Conv2D)          (None, 61, 61, 64)        18496     \n",
      "                                                                 \n",
      " batch_normalization_47 (Bat  (None, 61, 61, 64)       256       \n",
      " chNormalization)                                                \n",
      "                                                                 \n",
      " max_pooling2d_39 (MaxPoolin  (None, 30, 30, 64)       0         \n",
      " g2D)                                                            \n",
      "                                                                 \n",
      " conv2d_40 (Conv2D)          (None, 28, 28, 128)       73856     \n",
      "                                                                 \n",
      " batch_normalization_48 (Bat  (None, 28, 28, 128)      512       \n",
      " chNormalization)                                                \n",
      "                                                                 \n",
      " max_pooling2d_40 (MaxPoolin  (None, 14, 14, 128)      0         \n",
      " g2D)                                                            \n",
      "                                                                 \n",
      " flatten_14 (Flatten)        (None, 25088)             0         \n",
      "                                                                 \n",
      " dense_29 (Dense)            (None, 128)               3211392   \n",
      "                                                                 \n",
      " batch_normalization_49 (Bat  (None, 128)              512       \n",
      " chNormalization)                                                \n",
      "                                                                 \n",
      " dropout_41 (Dropout)        (None, 128)               0         \n",
      "                                                                 \n",
      " dense_30 (Dense)            (None, 64)                8256      \n",
      "                                                                 \n",
      " batch_normalization_50 (Bat  (None, 64)               256       \n",
      " chNormalization)                                                \n",
      "                                                                 \n",
      " dense_31 (Dense)            (None, 2)                 130       \n",
      "                                                                 \n",
      "=================================================================\n",
      "Total params: 3,314,690\n",
      "Trainable params: 3,313,858\n",
      "Non-trainable params: 832\n",
      "_________________________________________________________________\n"
     ]
    }
   ],
   "source": [
    "model=create_model()\n",
    "\n",
    "model.compile(optimizer=\"adam\", \n",
    "                loss='binary_crossentropy',\n",
    "                metrics = \"accuracy\")"
   ]
  },
  {
   "cell_type": "code",
   "execution_count": 141,
   "metadata": {},
   "outputs": [],
   "source": [
    "from keras.callbacks import EarlyStopping, ReduceLROnPlateau\n",
    "\n",
    "earlystop = EarlyStopping(patience = 10)\n",
    "learning_rate_reduction = ReduceLROnPlateau(monitor = 'val_accuracy',patience = 2,verbose = 1,factor = 0.2,min_lr = 0)\n",
    "callbacks = [earlystop,learning_rate_reduction]"
   ]
  },
  {
   "cell_type": "code",
   "execution_count": 142,
   "metadata": {},
   "outputs": [
    {
     "name": "stdout",
     "output_type": "stream",
     "text": [
      "Epoch 1/50\n",
      "200/200 [==============================] - 159s 787ms/step - loss: 0.7215 - accuracy: 0.5891 - val_loss: 0.7943 - val_accuracy: 0.5894 - lr: 0.0010\n",
      "Epoch 2/50\n",
      "200/200 [==============================] - 186s 930ms/step - loss: 0.6506 - accuracy: 0.6400 - val_loss: 0.6665 - val_accuracy: 0.6294 - lr: 0.0010\n",
      "Epoch 3/50\n",
      "200/200 [==============================] - 181s 906ms/step - loss: 0.6088 - accuracy: 0.6733 - val_loss: 0.6241 - val_accuracy: 0.6556 - lr: 0.0010\n",
      "Epoch 4/50\n",
      "200/200 [==============================] - 168s 842ms/step - loss: 0.5706 - accuracy: 0.7025 - val_loss: 0.6550 - val_accuracy: 0.6406 - lr: 0.0010\n",
      "Epoch 5/50\n",
      "200/200 [==============================] - ETA: 0s - loss: 0.5389 - accuracy: 0.7258\n",
      "Epoch 5: ReduceLROnPlateau reducing learning rate to 0.00020000000949949026.\n",
      "200/200 [==============================] - 168s 840ms/step - loss: 0.5389 - accuracy: 0.7258 - val_loss: 0.7167 - val_accuracy: 0.6319 - lr: 0.0010\n",
      "Epoch 6/50\n",
      "200/200 [==============================] - 168s 840ms/step - loss: 0.4682 - accuracy: 0.7777 - val_loss: 0.5537 - val_accuracy: 0.7056 - lr: 2.0000e-04\n",
      "Epoch 7/50\n",
      "200/200 [==============================] - 5023s 25s/step - loss: 0.4281 - accuracy: 0.8087 - val_loss: 0.5364 - val_accuracy: 0.7106 - lr: 2.0000e-04\n",
      "Epoch 8/50\n",
      "200/200 [==============================] - 165s 827ms/step - loss: 0.4050 - accuracy: 0.8139 - val_loss: 0.5352 - val_accuracy: 0.7344 - lr: 2.0000e-04\n",
      "Epoch 9/50\n",
      "200/200 [==============================] - 178s 889ms/step - loss: 0.3878 - accuracy: 0.8314 - val_loss: 0.5473 - val_accuracy: 0.7169 - lr: 2.0000e-04\n",
      "Epoch 10/50\n",
      "200/200 [==============================] - ETA: 0s - loss: 0.3375 - accuracy: 0.8587\n",
      "Epoch 10: ReduceLROnPlateau reducing learning rate to 4.0000001899898055e-05.\n",
      "200/200 [==============================] - 165s 826ms/step - loss: 0.3375 - accuracy: 0.8587 - val_loss: 0.5557 - val_accuracy: 0.7306 - lr: 2.0000e-04\n",
      "Epoch 11/50\n",
      "200/200 [==============================] - 172s 859ms/step - loss: 0.2888 - accuracy: 0.8847 - val_loss: 0.5130 - val_accuracy: 0.7431 - lr: 4.0000e-05\n",
      "Epoch 12/50\n",
      "200/200 [==============================] - 169s 844ms/step - loss: 0.2761 - accuracy: 0.8953 - val_loss: 0.5234 - val_accuracy: 0.7481 - lr: 4.0000e-05\n",
      "Epoch 13/50\n",
      "200/200 [==============================] - 168s 840ms/step - loss: 0.2696 - accuracy: 0.8997 - val_loss: 0.5120 - val_accuracy: 0.7513 - lr: 4.0000e-05\n",
      "Epoch 14/50\n",
      "200/200 [==============================] - 166s 830ms/step - loss: 0.2506 - accuracy: 0.9066 - val_loss: 0.5193 - val_accuracy: 0.7513 - lr: 4.0000e-05\n",
      "Epoch 15/50\n",
      "200/200 [==============================] - ETA: 0s - loss: 0.2385 - accuracy: 0.9105\n",
      "Epoch 15: ReduceLROnPlateau reducing learning rate to 8.000000525498762e-06.\n",
      "200/200 [==============================] - 166s 832ms/step - loss: 0.2385 - accuracy: 0.9105 - val_loss: 0.5239 - val_accuracy: 0.7487 - lr: 4.0000e-05\n",
      "Epoch 16/50\n",
      "200/200 [==============================] - 171s 856ms/step - loss: 0.2259 - accuracy: 0.9197 - val_loss: 0.5167 - val_accuracy: 0.7513 - lr: 8.0000e-06\n",
      "Epoch 17/50\n",
      "200/200 [==============================] - 186s 929ms/step - loss: 0.2286 - accuracy: 0.9183 - val_loss: 0.5175 - val_accuracy: 0.7531 - lr: 8.0000e-06\n",
      "Epoch 18/50\n",
      "200/200 [==============================] - 184s 922ms/step - loss: 0.2306 - accuracy: 0.9137 - val_loss: 0.5186 - val_accuracy: 0.7531 - lr: 8.0000e-06\n",
      "Epoch 19/50\n",
      "200/200 [==============================] - ETA: 0s - loss: 0.2204 - accuracy: 0.9223\n",
      "Epoch 19: ReduceLROnPlateau reducing learning rate to 1.6000001778593287e-06.\n",
      "200/200 [==============================] - 181s 905ms/step - loss: 0.2204 - accuracy: 0.9223 - val_loss: 0.5191 - val_accuracy: 0.7506 - lr: 8.0000e-06\n",
      "Epoch 20/50\n",
      "200/200 [==============================] - 184s 917ms/step - loss: 0.2144 - accuracy: 0.9259 - val_loss: 0.5191 - val_accuracy: 0.7531 - lr: 1.6000e-06\n",
      "Epoch 21/50\n",
      "200/200 [==============================] - ETA: 0s - loss: 0.2185 - accuracy: 0.9234\n",
      "Epoch 21: ReduceLROnPlateau reducing learning rate to 3.200000264769187e-07.\n",
      "200/200 [==============================] - 210s 1s/step - loss: 0.2185 - accuracy: 0.9234 - val_loss: 0.5194 - val_accuracy: 0.7519 - lr: 1.6000e-06\n",
      "Epoch 22/50\n",
      "200/200 [==============================] - 189s 943ms/step - loss: 0.2167 - accuracy: 0.9258 - val_loss: 0.5190 - val_accuracy: 0.7513 - lr: 3.2000e-07\n",
      "Epoch 23/50\n",
      "200/200 [==============================] - ETA: 0s - loss: 0.2053 - accuracy: 0.9337\n",
      "Epoch 23: ReduceLROnPlateau reducing learning rate to 6.400000529538374e-08.\n",
      "200/200 [==============================] - 188s 942ms/step - loss: 0.2053 - accuracy: 0.9337 - val_loss: 0.5189 - val_accuracy: 0.7531 - lr: 3.2000e-07\n"
     ]
    }
   ],
   "source": [
    "EPOCHS=50\n",
    "\n",
    "history = model.fit(x = train_set,validation_data=test_set,epochs = EPOCHS,callbacks=callbacks)"
   ]
  },
  {
   "cell_type": "markdown",
   "metadata": {},
   "source": [
    "  75 % validation acc with 3,314,690 total params"
   ]
  },
  {
   "cell_type": "code",
   "execution_count": 143,
   "metadata": {},
   "outputs": [],
   "source": [
    "accuracy = history.history['accuracy']\n",
    "val_accuracy  = history.history['val_accuracy']\n",
    "\n",
    "loss = history.history['loss']\n",
    "val_loss = history.history['val_loss']\n"
   ]
  },
  {
   "cell_type": "code",
   "execution_count": 144,
   "metadata": {},
   "outputs": [
    {
     "data": {
      "image/png": "[encoded data removed]",
      "text/plain": [
       "<Figure size 1080x720 with 2 Axes>"
      ]
     },
     "metadata": {
      "needs_background": "light"
     },
     "output_type": "display_data"
    }
   ],
   "source": [
    "plt.figure(figsize=(15,10))\n",
    "\n",
    "plt.subplot(2, 2, 1)\n",
    "plt.plot(accuracy, label = \"Training accuracy\")\n",
    "plt.plot(val_accuracy, label=\"Validation accuracy\")\n",
    "plt.legend()\n",
    "plt.title(\"Training vs Validation accuracy\")\n",
    "\n",
    "\n",
    "plt.subplot(2,2,2)\n",
    "plt.plot(loss, label = \"Training loss\")\n",
    "plt.plot(val_loss, label=\"Validation loss\")\n",
    "plt.legend()\n",
    "plt.title(\"Training vs Validation loss\")\n",
    "\n",
    "plt.show()"
   ]
  },
  {
   "cell_type": "code",
   "execution_count": null,
   "metadata": {},
   "outputs": [],
   "source": []
  }
 ],
 "metadata": {
  "interpreter": {
   "hash": "23356bbed64e65e149c0d44533e592c357a4662753356395725149f1f5ab8ff9"
  },
  "kernelspec": {
   "display_name": "Python 3.10.0 64-bit (system)",
   "language": "python",
   "name": "python3"
  },
  "language_info": {
   "codemirror_mode": {
    "name": "ipython",
    "version": 3
   },
   "file_extension": ".py",
   "mimetype": "text/x-python",
   "name": "python",
   "nbconvert_exporter": "python",
   "pygments_lexer": "ipython3",
   "version": "3.10.0"
  },
  "orig_nbformat": 4
 },
 "nbformat": 4,
 "nbformat_minor": 2
}
