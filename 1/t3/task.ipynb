{
 "cells": [
  {
   "cell_type": "code",
   "execution_count": 20,
   "metadata": {},
   "outputs": [],
   "source": [
    "import pandas as pd\n",
    "import numpy as np\n",
    "import matplotlib.pyplot as plt\n",
    "import seaborn as sns\n",
    "import plotly.express as px\n",
    "\n",
    "import os\n",
    "import shutil\n",
    "\n",
    "import tensorflow as tf\n",
    "from tensorflow.keras.preprocessing import image_dataset_from_directory\n",
    "\n",
    "from tensorflow.keras.applications import DenseNet121\n",
    "from tensorflow.keras.layers import Dense, GlobalAveragePooling2D, Dropout,MaxPooling2D , Conv2D,Flatten,BatchNormalization\n",
    "from tensorflow.keras.models import Sequential\n",
    "\n",
    "from sklearn.metrics import roc_curve, auc, roc_auc_score\n",
    "from sklearn.metrics import classification_report\n",
    "\n",
    "# from IPython.display import clear_output\n",
    "# import warnings\n",
    "# warnings.filterwarnings('ignore')"
   ]
  },
  {
   "cell_type": "code",
   "execution_count": 21,
   "metadata": {},
   "outputs": [],
   "source": [
    "dir=\"train_data\"\n",
    "test_dir=\"test_data\"\n",
    "\n",
    "data=pd.read_csv(\"train_labels.csv\")\n",
    "\n",
    "SEED = 12\n",
    "IMG_HEIGHT = 64\n",
    "IMG_WIDTH = 64"
   ]
  },
  {
   "cell_type": "code",
   "execution_count": 22,
   "metadata": {},
   "outputs": [
    {
     "name": "stdout",
     "output_type": "stream",
     "text": [
      "Number of images in test and train set :  8000\n"
     ]
    }
   ],
   "source": [
    "n=len(os.listdir(dir))\n",
    "print(\"Number of images in test and train set : \",n)"
   ]
  },
  {
   "cell_type": "code",
   "execution_count": 23,
   "metadata": {},
   "outputs": [
    {
     "name": "stdout",
     "output_type": "stream",
     "text": [
      "Number of cats vs dogs images :  4000  :  4000\n"
     ]
    },
    {
     "data": {
      "image/png": "[encoded data removed]",
      "text/plain": [
       "<Figure size 360x360 with 1 Axes>"
      ]
     },
     "metadata": {},
     "output_type": "display_data"
    }
   ],
   "source": [
    "cats=dogs=0\n",
    "for i in data[\"label\"]:\n",
    "    if i==\"cat\":\n",
    "        cats+=1\n",
    "    elif i==\"dog\":\n",
    "        dogs+=1\n",
    "\n",
    "plt.figure(figsize=(5, 5))\n",
    "plt.pie(x=np.array([cats,dogs]), autopct=\"%.1f%%\", labels=[\"Cats\", \"Dogs\"], pctdistance=0.5)\n",
    "plt.title(\"Share of cats vs dogs images \", fontsize=14)\n",
    "print(\"Number of cats vs dogs images : \",cats,\" : \",dogs)\n"
   ]
  },
  {
   "cell_type": "code",
   "execution_count": 24,
   "metadata": {},
   "outputs": [],
   "source": [
    "IMG_WIDTH=128\n",
    "IMG_HEIGHT=128\n",
    "\n",
    "IMG_SHAPE=(IMG_HEIGHT,IMG_WIDTH)\n",
    "seed=69\n",
    "\n",
    "INPUT_SHAPE=(IMG_HEIGHT,IMG_WIDTH,3)"
   ]
  },
  {
   "cell_type": "code",
   "execution_count": 25,
   "metadata": {},
   "outputs": [],
   "source": [
    "# make input data into desired format\n",
    "\n",
    "\n",
    "# cats_files=[]\n",
    "# dogs_files=[]\n",
    "\n",
    "# for i,label in enumerate(data[\"label\"]):\n",
    "#     if label==\"cat\":\n",
    "#         cats_files.append(str(data[\"id\"][i])+\".png\")\n",
    "#     elif label==\"dog\":\n",
    "#         dogs_files.append(str(data[\"id\"][i])+\".png\")\n",
    "\n",
    "# for f in cats_files:\n",
    "#     shutil.copyfile(os.path.join(dir,f),os.path.join(\"train/cats\",f))\n",
    "\n",
    "# for f in dogs_files:\n",
    "#     shutil.copyfile(os.path.join(dir,f),os.path.join(\"train/dogs\",f))"
   ]
  },
  {
   "cell_type": "code",
   "execution_count": 26,
   "metadata": {},
   "outputs": [],
   "source": [
    "# for test set arrangin data\n",
    "\n",
    "# cats_files=[]\n",
    "# dogs_files=[]\n",
    "\n",
    "# test_data=pd.read_csv(\"test_labels.csv\")\n",
    "\n",
    "# for i,label in enumerate(test_data[\"label\"]):\n",
    "#     if label==\"cat\":\n",
    "#         cats_files.append(str(test_data[\"id\"][i])+\".png\")\n",
    "#     elif label==\"dog\":\n",
    "#         dogs_files.append(str(test_data[\"id\"][i])+\".png\")\n",
    "\n",
    "# for f in cats_files:\n",
    "#     shutil.copyfile(os.path.join(test_dir,f),os.path.join(\"test/cats\",f))\n",
    "\n",
    "# for f in dogs_files:\n",
    "#      shutil.copyfile(os.path.join(test_dir,f),os.path.join(\"test/dogs\",f))"
   ]
  },
  {
   "cell_type": "code",
   "execution_count": 27,
   "metadata": {},
   "outputs": [
    {
     "name": "stdout",
     "output_type": "stream",
     "text": [
      "Found 8000 files belonging to 2 classes.\n",
      "Using 6400 files for training.\n",
      "Found 8000 files belonging to 2 classes.\n",
      "Using 1600 files for validation.\n",
      "Found 2000 files belonging to 2 classes.\n"
     ]
    }
   ],
   "source": [
    "BATCH_SIZE=32\n",
    "\n",
    "train_set=image_dataset_from_directory(\n",
    "    \"train\",\n",
    "    label_mode=\"categorical\",\n",
    "    batch_size=BATCH_SIZE,\n",
    "    image_size=IMG_SHAPE,\n",
    "    shuffle=True,\n",
    "    seed=seed,\n",
    "    validation_split=0.2,\n",
    "    subset=\"training\",\n",
    ")\n",
    "\n",
    "val_set=image_dataset_from_directory(\n",
    "    \"train\",\n",
    "    label_mode=\"categorical\",\n",
    "    batch_size=BATCH_SIZE,\n",
    "    image_size=IMG_SHAPE,\n",
    "    shuffle=True,\n",
    "    seed=seed,\n",
    "    validation_split=0.2,\n",
    "    subset=\"validation\",\n",
    ")\n",
    "\n",
    "test_set=image_dataset_from_directory(\n",
    "    \"test\",\n",
    "    label_mode=\"categorical\",\n",
    "    batch_size=BATCH_SIZE,\n",
    "    image_size=IMG_SHAPE,\n",
    "    shuffle=True,\n",
    "    seed=seed,\n",
    ")"
   ]
  },
  {
   "cell_type": "code",
   "execution_count": 28,
   "metadata": {},
   "outputs": [],
   "source": [
    "# def transfer_learning():\n",
    "#     base_model=DenseNet121(include_top=False,input_shape=INPUT_SHAPE,weights=\"imagenet\")\n",
    "    \n",
    "#     thr=149\n",
    "#     for layers in base_model.layers[:thr]:\n",
    "#         layers.trainable=False\n",
    "    \n",
    "#     for layers in base_model.layers[thr:]:\n",
    "#         layers.trainable=True\n",
    "    \n",
    "#     return base_model"
   ]
  },
  {
   "cell_type": "code",
   "execution_count": 29,
   "metadata": {},
   "outputs": [],
   "source": [
    "def create_model():\n",
    "    model=Sequential()\n",
    "    \n",
    "    model.add(Conv2D(32,(3,3),activation='relu',input_shape=INPUT_SHAPE))\n",
    "    model.add(BatchNormalization())\n",
    "    model.add(MaxPooling2D(pool_size=(2,2)))\n",
    "\n",
    "    model.add(Conv2D(64,(3,3),activation='relu'))\n",
    "    model.add(BatchNormalization())\n",
    "    model.add(MaxPooling2D(pool_size=(2,2)))\n",
    "\n",
    "    model.add(Conv2D(128,(3,3),activation='relu'))\n",
    "    model.add(BatchNormalization())\n",
    "    model.add(MaxPooling2D(pool_size=(2,2)))\n",
    "\n",
    "    model.add(Flatten())\n",
    "\n",
    "    model.add(Dense(128,activation='relu'))\n",
    "    model.add(BatchNormalization())\n",
    "    model.add(Dropout(0.5))\n",
    "\n",
    "    model.add(Dense(64,activation='relu'))\n",
    "    model.add(BatchNormalization())\n",
    "\n",
    "    model.add(Dense(2,activation='softmax'))\n",
    "    \n",
    "    model.summary()\n",
    "    \n",
    "    return model"
   ]
  },
  {
   "cell_type": "code",
   "execution_count": 30,
   "metadata": {},
   "outputs": [
    {
     "name": "stdout",
     "output_type": "stream",
     "text": [
      "Model: \"sequential_1\"\n",
      "_________________________________________________________________\n",
      " Layer (type)                Output Shape              Param #   \n",
      "=================================================================\n",
      " conv2d_3 (Conv2D)           (None, 126, 126, 32)      896       \n",
      "                                                                 \n",
      " batch_normalization_5 (Batc  (None, 126, 126, 32)     128       \n",
      " hNormalization)                                                 \n",
      "                                                                 \n",
      " max_pooling2d_3 (MaxPooling  (None, 63, 63, 32)       0         \n",
      " 2D)                                                             \n",
      "                                                                 \n",
      " conv2d_4 (Conv2D)           (None, 61, 61, 64)        18496     \n",
      "                                                                 \n",
      " batch_normalization_6 (Batc  (None, 61, 61, 64)       256       \n",
      " hNormalization)                                                 \n",
      "                                                                 \n",
      " max_pooling2d_4 (MaxPooling  (None, 30, 30, 64)       0         \n",
      " 2D)                                                             \n",
      "                                                                 \n",
      " conv2d_5 (Conv2D)           (None, 28, 28, 128)       73856     \n",
      "                                                                 \n",
      " batch_normalization_7 (Batc  (None, 28, 28, 128)      512       \n",
      " hNormalization)                                                 \n",
      "                                                                 \n",
      " max_pooling2d_5 (MaxPooling  (None, 14, 14, 128)      0         \n",
      " 2D)                                                             \n",
      "                                                                 \n",
      " flatten_1 (Flatten)         (None, 25088)             0         \n",
      "                                                                 \n",
      " dense_3 (Dense)             (None, 128)               3211392   \n",
      "                                                                 \n",
      " batch_normalization_8 (Batc  (None, 128)              512       \n",
      " hNormalization)                                                 \n",
      "                                                                 \n",
      " dropout_1 (Dropout)         (None, 128)               0         \n",
      "                                                                 \n",
      " dense_4 (Dense)             (None, 64)                8256      \n",
      "                                                                 \n",
      " batch_normalization_9 (Batc  (None, 64)               256       \n",
      " hNormalization)                                                 \n",
      "                                                                 \n",
      " dense_5 (Dense)             (None, 2)                 130       \n",
      "                                                                 \n",
      "=================================================================\n",
      "Total params: 3,314,690\n",
      "Trainable params: 3,313,858\n",
      "Non-trainable params: 832\n",
      "_________________________________________________________________\n"
     ]
    }
   ],
   "source": [
    "model=create_model()\n",
    "\n",
    "model.compile(optimizer=\"adam\", \n",
    "                loss='binary_crossentropy',\n",
    "                metrics = \"accuracy\")"
   ]
  },
  {
   "cell_type": "code",
   "execution_count": 31,
   "metadata": {},
   "outputs": [],
   "source": [
    "from keras.callbacks import EarlyStopping, ReduceLROnPlateau\n",
    "\n",
    "earlystop = EarlyStopping(patience = 10)\n",
    "learning_rate_reduction = ReduceLROnPlateau(monitor = 'val_accuracy',patience = 2,verbose = 1,factor = 0.2,min_lr = 0)\n",
    "callbacks = [earlystop,learning_rate_reduction]"
   ]
  },
  {
   "cell_type": "code",
   "execution_count": 32,
   "metadata": {},
   "outputs": [
    {
     "name": "stdout",
     "output_type": "stream",
     "text": [
      "Epoch 1/12\n",
      "200/200 [==============================] - 178s 867ms/step - loss: 0.7295 - accuracy: 0.5870 - val_loss: 0.7001 - val_accuracy: 0.6162 - lr: 0.0010\n",
      "Epoch 2/12\n",
      "200/200 [==============================] - 177s 886ms/step - loss: 0.6520 - accuracy: 0.6403 - val_loss: 0.6561 - val_accuracy: 0.6313 - lr: 0.0010\n",
      "Epoch 3/12\n",
      "200/200 [==============================] - 189s 947ms/step - loss: 0.6121 - accuracy: 0.6652 - val_loss: 0.6071 - val_accuracy: 0.6687 - lr: 0.0010\n",
      "Epoch 4/12\n",
      "200/200 [==============================] - 180s 902ms/step - loss: 0.5881 - accuracy: 0.6884 - val_loss: 0.5996 - val_accuracy: 0.6769 - lr: 0.0010\n",
      "Epoch 5/12\n",
      "200/200 [==============================] - 179s 896ms/step - loss: 0.5521 - accuracy: 0.7286 - val_loss: 0.5981 - val_accuracy: 0.6819 - lr: 0.0010\n",
      "Epoch 6/12\n",
      "200/200 [==============================] - 175s 875ms/step - loss: 0.5148 - accuracy: 0.7386 - val_loss: 0.5476 - val_accuracy: 0.7138 - lr: 0.0010\n",
      "Epoch 7/12\n",
      "200/200 [==============================] - 181s 905ms/step - loss: 0.4716 - accuracy: 0.7742 - val_loss: 0.6816 - val_accuracy: 0.6775 - lr: 0.0010\n",
      "Epoch 8/12\n",
      "200/200 [==============================] - ETA: 0s - loss: 0.4222 - accuracy: 0.8042\n",
      "Epoch 8: ReduceLROnPlateau reducing learning rate to 0.00020000000949949026.\n",
      "200/200 [==============================] - 178s 892ms/step - loss: 0.4222 - accuracy: 0.8042 - val_loss: 0.6823 - val_accuracy: 0.6806 - lr: 0.0010\n",
      "Epoch 9/12\n",
      "200/200 [==============================] - 178s 889ms/step - loss: 0.3340 - accuracy: 0.8622 - val_loss: 0.5094 - val_accuracy: 0.7487 - lr: 2.0000e-04\n",
      "Epoch 10/12\n",
      "200/200 [==============================] - 187s 934ms/step - loss: 0.2832 - accuracy: 0.8881 - val_loss: 0.5216 - val_accuracy: 0.7462 - lr: 2.0000e-04\n",
      "Epoch 11/12\n",
      "200/200 [==============================] - ETA: 0s - loss: 0.2653 - accuracy: 0.8942\n",
      "Epoch 11: ReduceLROnPlateau reducing learning rate to 4.0000001899898055e-05.\n",
      "200/200 [==============================] - 193s 964ms/step - loss: 0.2653 - accuracy: 0.8942 - val_loss: 0.5328 - val_accuracy: 0.7475 - lr: 2.0000e-04\n",
      "Epoch 12/12\n",
      "200/200 [==============================] - 195s 976ms/step - loss: 0.2263 - accuracy: 0.9125 - val_loss: 0.5104 - val_accuracy: 0.7600 - lr: 4.0000e-05\n"
     ]
    }
   ],
   "source": [
    "EPOCHS=12\n",
    "\n",
    "history = model.fit(x = train_set,validation_data=val_set,epochs = EPOCHS,callbacks=callbacks)"
   ]
  },
  {
   "cell_type": "code",
   "execution_count": 33,
   "metadata": {},
   "outputs": [],
   "source": [
    "accuracy = history.history['accuracy']\n",
    "val_accuracy  = history.history['val_accuracy']\n",
    "\n",
    "loss = history.history['loss']\n",
    "val_loss = history.history['val_loss']"
   ]
  },
  {
   "cell_type": "code",
   "execution_count": 34,
   "metadata": {},
   "outputs": [
    {
     "data": {
      "image/png": "[encoded data removed]",
      "text/plain": [
       "<Figure size 1080x720 with 2 Axes>"
      ]
     },
     "metadata": {
      "needs_background": "light"
     },
     "output_type": "display_data"
    }
   ],
   "source": [
    "plt.figure(figsize=(15,10))\n",
    "\n",
    "plt.subplot(2, 2, 1)\n",
    "plt.plot(accuracy, label = \"Training accuracy\")\n",
    "plt.plot(val_accuracy, label=\"Validation accuracy\")\n",
    "plt.legend()\n",
    "plt.title(\"Training vs Validation accuracy\")\n",
    "\n",
    "\n",
    "plt.subplot(2,2,2)\n",
    "plt.plot(loss, label = \"Training loss\")\n",
    "plt.plot(val_loss, label=\"Validation loss\")\n",
    "plt.legend()\n",
    "plt.title(\"Training vs Validation loss\")\n",
    "\n",
    "plt.show()"
   ]
  },
  {
   "cell_type": "code",
   "execution_count": 35,
   "metadata": {},
   "outputs": [],
   "source": [
    "y_pred = np.array([])\n",
    "y_true =  np.array([])\n",
    "\n",
    "for x, y in test_set:\n",
    "  y_pred = np.concatenate([y_pred, np.argmax(model.predict(x), axis = -1)])\n",
    "  y_true = np.concatenate([y_true, np.argmax(y.numpy(), axis=-1)])"
   ]
  },
  {
   "cell_type": "code",
   "execution_count": 36,
   "metadata": {},
   "outputs": [
    {
     "name": "stdout",
     "output_type": "stream",
     "text": [
      "              precision    recall  f1-score   support\n",
      "\n",
      "         0.0       0.76      0.76      0.76      1000\n",
      "         1.0       0.76      0.76      0.76      1000\n",
      "\n",
      "    accuracy                           0.76      2000\n",
      "   macro avg       0.76      0.76      0.76      2000\n",
      "weighted avg       0.76      0.76      0.76      2000\n",
      "\n"
     ]
    }
   ],
   "source": [
    "print(classification_report(y_true, y_pred))"
   ]
  },
  {
   "cell_type": "code",
   "execution_count": 37,
   "metadata": {},
   "outputs": [
    {
     "name": "stdout",
     "output_type": "stream",
     "text": [
      "63/63 [==============================] - 16s 256ms/step - loss: 0.5349 - accuracy: 0.7610\n"
     ]
    }
   ],
   "source": [
    "results = model.evaluate(test_set)"
   ]
  },
  {
   "cell_type": "markdown",
   "metadata": {},
   "source": [
    "76.10 % Test Accuracy and 76 & Validation Accuracy using 3,314,690 parameters."
   ]
  },
  {
   "cell_type": "code",
   "execution_count": 38,
   "metadata": {},
   "outputs": [],
   "source": [
    "def plot_confusion_matrix(mat, target_names, title='Confusion Matrix', cmap=None):\n",
    "    accuracy = np.trace(mat) / float(np.sum(mat))\n",
    "    misclass = 1 - accuracy\n",
    "    \n",
    "    if cmap is None:\n",
    "        cmap = plt.get_cmap('Blues')\n",
    "\n",
    "    plt.figure(figsize=(8, 6))\n",
    "    plt.imshow(mat, interpolation='nearest', cmap=cmap)\n",
    "    plt.title(title)\n",
    "    plt.colorbar()\n",
    "    \n",
    "    plt.tight_layout()\n",
    "    plt.ylabel('True label')\n",
    "    plt.xlabel('Predicted label\\naccuracy={:0.4f}; misclass={:0.4f}'.format(accuracy, misclass))\n",
    "    plt.grid('off')\n",
    "    plt.show()"
   ]
  },
  {
   "cell_type": "code",
   "execution_count": 39,
   "metadata": {},
   "outputs": [
    {
     "data": {
      "image/png": "[encoded data removed]",
      "text/plain": [
       "<Figure size 576x432 with 2 Axes>"
      ]
     },
     "metadata": {
      "needs_background": "light"
     },
     "output_type": "display_data"
    }
   ],
   "source": [
    "from sklearn.metrics import confusion_matrix\n",
    "\n",
    "mat = confusion_matrix(y_true, y_pred)\n",
    "\n",
    "plot_confusion_matrix(mat, test_set.class_names)\n"
   ]
  }
 ],
 "metadata": {
  "interpreter": {
   "hash": "23356bbed64e65e149c0d44533e592c357a4662753356395725149f1f5ab8ff9"
  },
  "kernelspec": {
   "display_name": "Python 3.10.0 64-bit (system)",
   "language": "python",
   "name": "python3"
  },
  "language_info": {
   "codemirror_mode": {
    "name": "ipython",
    "version": 3
   },
   "file_extension": ".py",
   "mimetype": "text/x-python",
   "name": "python",
   "nbconvert_exporter": "python",
   "pygments_lexer": "ipython3",
   "version": "3.10.0"
  },
  "orig_nbformat": 4
 },
 "nbformat": 4,
 "nbformat_minor": 2
}
