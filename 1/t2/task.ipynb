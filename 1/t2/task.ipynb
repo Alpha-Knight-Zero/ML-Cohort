{
 "cells": [
  {
   "cell_type": "code",
   "execution_count": 33,
   "metadata": {},
   "outputs": [],
   "source": [
    "import pandas as pd\n",
    "import cv2 as cv"
   ]
  },
  {
   "cell_type": "code",
   "execution_count": 34,
   "metadata": {},
   "outputs": [],
   "source": [
    "def inputs():\n",
    "    # folder=input(\"Enter the folder name: \")\n",
    "    # file=input(\"Enter the csv file name: \")\n",
    "    folder=\"cat\"\n",
    "    filee=\"data_labels\"\n",
    "    \n",
    "    if not filee.endswith(\".csv\"):\n",
    "        filee=filee+\".csv\"\n",
    "    \n",
    "    return folder,filee"
   ]
  },
  {
   "cell_type": "code",
   "execution_count": 35,
   "metadata": {},
   "outputs": [],
   "source": [
    "def task():\n",
    "    folder,filee=inputs()\n",
    "    data=pd.read_csv(filee)\n",
    "    \n",
    "    n=len(data[\"name\"][1:])\n",
    "    \n",
    "    for i,img_name in enumerate(data[\"name\"][1:]):\n",
    "        \n",
    "        img_path=folder+\"/\"+img_name\n",
    "        img=cv.imread(img_path)\n",
    "        \n",
    "        start_point=(int(data[\"xmin\"][i+1]),int(data[\"ymax\"][i+1]))\n",
    "        end_point=(int(data[\"xmax\"][i+1]),int(data[\"ymin\"][i+1]))\n",
    "\n",
    "        zipp=zip(range(0,256,255//n ),range(0,256,255//n ),range(0,256,255//n ))\n",
    "\n",
    "        color=[(x,y,z) for x,y,z in zipp]\n",
    "\n",
    "        thickness=[x%5+1 for x in range(0,n,1)]\n",
    "\n",
    "        font_scl=[x/10 for x in range(12,n+12,1)]\n",
    "\n",
    "        annotated_img=cv.rectangle(img,start_point,end_point,color[i],thickness[i])\n",
    "\n",
    "        fonts=[cv.FONT_HERSHEY_SIMPLEX,\n",
    "cv.FONT_HERSHEY_PLAIN,\n",
    "cv.FONT_HERSHEY_DUPLEX,\n",
    "cv.FONT_HERSHEY_COMPLEX,\n",
    "cv.FONT_HERSHEY_TRIPLEX,\n",
    "cv.FONT_HERSHEY_COMPLEX_SMALL,\n",
    "cv.FONT_HERSHEY_SCRIPT_SIMPLEX,\n",
    "cv.FONT_HERSHEY_SCRIPT_COMPLEX]\n",
    "\n",
    "        mid=((start_point[0]+end_point[0])//2,start_point[1])\n",
    "        cv.putText(annotated_img,  \n",
    "           data[\"label\"][i+1],  \n",
    "           mid,  \n",
    "           fontFace=fonts[i%8],  \n",
    "           fontScale=font_scl[i],  \n",
    "           color=color[i])\n",
    "\n",
    "        cv.imshow(img_name,annotated_img)\n",
    "        cv.waitKey(0)\n",
    "        cv.destroyAllWindows()\n",
    "\n",
    "        cv.imwrite(\"annotated/\"+img_name+\".jpg\",annotated_img)\n"
   ]
  },
  {
   "cell_type": "code",
   "execution_count": 36,
   "metadata": {},
   "outputs": [],
   "source": [
    "task()"
   ]
  },
  {
   "cell_type": "code",
   "execution_count": null,
   "metadata": {},
   "outputs": [],
   "source": []
  }
 ],
 "metadata": {
  "interpreter": {
   "hash": "23356bbed64e65e149c0d44533e592c357a4662753356395725149f1f5ab8ff9"
  },
  "kernelspec": {
   "display_name": "Python 3.10.0 64-bit (system)",
   "language": "python",
   "name": "python3"
  },
  "language_info": {
   "codemirror_mode": {
    "name": "ipython",
    "version": 3
   },
   "file_extension": ".py",
   "mimetype": "text/x-python",
   "name": "python",
   "nbconvert_exporter": "python",
   "pygments_lexer": "ipython3",
   "version": "3.10.0"
  },
  "orig_nbformat": 4
 },
 "nbformat": 4,
 "nbformat_minor": 2
}
