{
 "cells": [
  {
   "cell_type": "code",
   "execution_count": 20,
   "metadata": {},
   "outputs": [],
   "source": [
    "import os\n",
    "import numpy as np\n",
    "import cv2 as cv\n",
    "\n",
    "import numpy as np"
   ]
  },
  {
   "cell_type": "code",
   "execution_count": 21,
   "metadata": {},
   "outputs": [],
   "source": [
    "def input_path(pth):\n",
    "    global train_path, test_path\n",
    "    test_path = pth + \"test_zip/test/\"\n",
    "    train_path = pth + \"train_zip/train/\"\n",
    "\n",
    "    return train_path, test_path"
   ]
  },
  {
   "cell_type": "code",
   "execution_count": 22,
   "metadata": {},
   "outputs": [],
   "source": [
    "train_name=set()\n",
    "test_name=set()\n",
    "\n",
    "def process():\n",
    "    global train_name, test_name\n",
    "\n",
    "    train_path, test_path = input_path(\"\")\n",
    "\n",
    "    for img in os.listdir(train_path):\n",
    "        train_name.add(img.split('.')[0])\n",
    "\n",
    "    for img in os.listdir(test_path):\n",
    "        test_name.add(img.split('.')[0])\n",
    "\n",
    "    \n",
    "    images=[]\n",
    "    gray_images=[]\n",
    "    \n",
    "    for i,img in enumerate(train_name):\n",
    "        img_path=train_path+img+'.jpg'\n",
    "\n",
    "        img=cv.imread(img_path)\n",
    "        images.append(img)\n",
    "\n",
    "        # print(img_path)\n",
    "        gray=cv.cvtColor(img,cv.COLOR_BGR2GRAY)\n",
    "        \n",
    "        gray_images.append(gray)\n",
    "    \n",
    "    for i,img in enumerate(test_name):\n",
    "        img_path=test_path+img+'.jpg'\n",
    "\n",
    "        img=cv.imread(img_path)\n",
    "        images.append(img)\n",
    "\n",
    "        # print(img_path)\n",
    "        gray=cv.cvtColor(img,cv.COLOR_BGR2GRAY)\n",
    "        \n",
    "        gray_images.append(gray)\n",
    "    \n",
    "    return images,gray_images"
   ]
  },
  {
   "cell_type": "code",
   "execution_count": 17,
   "metadata": {},
   "outputs": [],
   "source": [
    "def output():\n",
    "    images,gray_images=process()\n",
    "    \n",
    "    print(\"Number of images : \",len(images))\n",
    "\n",
    "    print(\"Format type : \",type(images.pop()))\n",
    "\n",
    "    dest_path=\"gray/\"\n",
    "    \n",
    "    for i,img in enumerate(train_name):\n",
    "        img_path=dest_path+img+'.jpg'\n",
    "\n",
    "        cv.imwrite(img_path,gray_images[i])\n",
    "    \n",
    "    for i,img in enumerate(test_name):\n",
    "        img_path=dest_path+img+'.jpg'\n",
    "\n",
    "        cv.imwrite(img_path,gray_images[i+len(train_name)])\n",
    "        "
   ]
  },
  {
   "cell_type": "code",
   "execution_count": 18,
   "metadata": {},
   "outputs": [
    {
     "name": "stdout",
     "output_type": "stream",
     "text": [
      "Number of images :  300\n",
      "Format type :  <class 'numpy.ndarray'>\n"
     ]
    }
   ],
   "source": [
    "if __name__ == '__main__':\n",
    "    output()"
   ]
  },
  {
   "cell_type": "code",
   "execution_count": null,
   "metadata": {},
   "outputs": [],
   "source": []
  }
 ],
 "metadata": {
  "interpreter": {
   "hash": "919eb0904b72c37e8d6c7e3b2f7b6f162c89cafcc297fba09b2d10c79c52f5eb"
  },
  "kernelspec": {
   "display_name": "Python 3.9.7 ('base')",
   "language": "python",
   "name": "python3"
  },
  "language_info": {
   "codemirror_mode": {
    "name": "ipython",
    "version": 3
   },
   "file_extension": ".py",
   "mimetype": "text/x-python",
   "name": "python",
   "nbconvert_exporter": "python",
   "pygments_lexer": "ipython3",
   "version": "3.10.0"
  },
  "orig_nbformat": 4
 },
 "nbformat": 4,
 "nbformat_minor": 2
}
